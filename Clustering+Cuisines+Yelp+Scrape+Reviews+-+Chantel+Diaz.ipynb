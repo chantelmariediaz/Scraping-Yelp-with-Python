{
 "cells": [
  {
   "cell_type": "markdown",
   "metadata": {
    "collapsed": true
   },
   "source": [
    "## Clustering Assignment: Web Scrape Yelp reviews for Korean, Scandinavian, Pakistani/Indian, and Brazilian restaurants in New York"
   ]
  },
  {
   "cell_type": "markdown",
   "metadata": {},
   "source": [
    "Are cuisines that seem so dissimilar may actually be similar according to customers? "
   ]
  },
  {
   "cell_type": "code",
   "execution_count": 19,
   "metadata": {
    "collapsed": true,
    "scrolled": true
   },
   "outputs": [],
   "source": [
    "#First, import libraries as needed\n",
    "import string\n",
    "from lxml import html\n",
    "import requests"
   ]
  },
  {
   "cell_type": "code",
   "execution_count": 20,
   "metadata": {
    "collapsed": true,
    "scrolled": true
   },
   "outputs": [],
   "source": [
    "# Grab unique url segments for each restaurant that we want to scrape as a list\n",
    "CUISINES = ['woorijip-authentic-korean-food-new-york',\n",
    "               'barn-joo-35-new-york',\n",
    "               'her-name-is-han-new-york-3',\n",
    "               'jongro-bbq-new-york-3',\n",
    "               'tofu-tofu-new-york-5', \n",
    "               'aska-brooklyn-3', \n",
    "               'aquavit-new-york', \n",
    "               'nordic-preserves-fish-and-wildlife-company-new-york', \n",
    "               'agern-new-york', \n",
    "               'the-copenhagen-new-york', \n",
    "               'the-masalawala-new-york-2', \n",
    "               'bk-jani-bushwick', \n",
    "               'lahore-deli-new-york', \n",
    "               'lahori-chilli-brooklyn-2', \n",
    "               'kababish-jackson-heights', \n",
    "               'ipanema-restaurant-new-york', \n",
    "               'samba-kitchen-new-york-5', \n",
    "               'villa-brazil-cafe-grill-astoria', \n",
    "               'beco-brooklyn', \n",
    "               'berimbau-do-brasil-new-york']\n",
    "#create a base url that will iterate later with the unique url segments we have in our CUISINES list\n",
    "base_urls = [ 'http://www.yelp.com/biz/%s' % s for s in CUISINES]\n",
    "reviews_per_page = 20 # Number of reviews we want for each page\n",
    "order_sequence = range(0, (reviews_per_page+1), 40) #range to grab reviews from each page"
   ]
  },
  {
   "cell_type": "code",
   "execution_count": 21,
   "metadata": {
    "scrolled": true
   },
   "outputs": [],
   "source": [
    "import string\n",
    "i=0 \n",
    "#start iteration of urls using the base_url and unique segments\n",
    "for ur in base_urls:\n",
    "    for o in order_sequence:\n",
    "        page = requests.get(ur + (\"?start=%s\" % o))\n",
    "        tree = html.fromstring(page.text)\n",
    "        \n",
    "        # this will make a list of all the reviews\n",
    "        reviews = tree.xpath('//p[@itemprop=\"description\"]/text()')\n",
    "        review_list = []\n",
    "        for rev in reviews:\n",
    "            rev_listry = \"\".join(filter(lambda x: x in string.printable, rev))\n",
    "            rev_listry = rev_listry.replace(\",\",\":\")\n",
    "            rev_listry = rev_listry.replace(\"\\'\",\"\")\n",
    "            review_list.append(rev_listry) \n",
    "        \n",
    "    # this will make one text file for each restaurant with their reviews\n",
    "    with open(str(CUISINES[i])+\".txt\", 'w') as f:\n",
    "        f.write(\"\\n\".join(map(lambda x: str(x), review_list)))\n",
    "        i+=1\n",
    "        f.close()\n"
   ]
  },
  {
   "cell_type": "code",
   "execution_count": 22,
   "metadata": {
    "collapsed": true,
    "scrolled": true
   },
   "outputs": [],
   "source": [
    "#Open the file that we will iterate through and grab elements later\n",
    "txtfile = open('restaurant_cuisine_names.txt', 'w')\n",
    "\n",
    "for item in CUISINES:\n",
    "    txtfile.writelines(\"%s\\n\" % item)\n",
    "txtfile.close()"
   ]
  },
  {
   "cell_type": "code",
   "execution_count": 23,
   "metadata": {
    "collapsed": true,
    "scrolled": true
   },
   "outputs": [],
   "source": [
    "#Start making a dendrogram that will show similarities of the restaurants\n",
    "import numpy as np\n",
    "import pandas as pd\n",
    "import nltk\n",
    "from bs4 import BeautifulSoup\n",
    "import re\n",
    "import os\n",
    "import codecs\n",
    "from sklearn import feature_extraction\n",
    "import mpld3"
   ]
  },
  {
   "cell_type": "code",
   "execution_count": 24,
   "metadata": {
    "collapsed": true,
    "scrolled": false
   },
   "outputs": [],
   "source": [
    "#Start to grab the list of restaurants and reviews we saved from creating the text files\n",
    "\n",
    "#Make two larger lists for both the files and the actual text of reviews\n",
    "\n",
    "#List of text files\n",
    "txt_files = []\n",
    "\n",
    "#List of reviews in the text files\n",
    "rev_txts = []\n",
    "\n",
    "#Start the process\n",
    "nyc_restaurants = open('restaurant_cuisine_names.txt').read().split('\\n')\n",
    "\n",
    "nyc_restaurants = nyc_restaurants[:20]\n",
    "\n",
    "nyc_restaurant0 = open(nyc_restaurants[0]+'.txt','r').read()\n",
    "rev_txts.append(nyc_restaurant0)\n",
    "rev_txts[0] = rev_txts[0].replace(\"\\n\", \" \")\n",
    "\n",
    "nyc_restaurant1 = open(nyc_restaurants[1]+'.txt', 'r').read()\n",
    "rev_txts.append(nyc_restaurant1)\n",
    "rev_txts[1] = rev_txts[1].replace(\"\\n\", \" \")\n",
    "    \n",
    "nyc_restaurant2 = open(nyc_restaurants[2]+'.txt', 'r').read()\n",
    "rev_txts.append(nyc_restaurant2)\n",
    "rev_txts[2] = rev_txts[2].replace(\"\\n\", \" \")\n",
    "    \n",
    "nyc_restaurant3 = open(nyc_restaurants[3]+'.txt', 'r').read()\n",
    "rev_txts.append(nyc_restaurant3)\n",
    "rev_txts[3] = rev_txts[3].replace(\"\\n\", \" \")\n",
    "    \n",
    "nyc_restaurant4 = open(nyc_restaurants[4]+'.txt', 'r').read()\n",
    "rev_txts.append(nyc_restaurant4)\n",
    "rev_txts[4] = rev_txts[4].replace(\"\\n\", \" \")\n",
    "    \n",
    "nyc_restaurant5 = open(nyc_restaurants[5]+'.txt', 'r').read()\n",
    "rev_txts.append(nyc_restaurant5)\n",
    "rev_txts[5] = rev_txts[5].replace(\"\\n\", \" \")\n",
    "\n",
    "nyc_restaurant6 = open(nyc_restaurants[6]+'.txt', 'r').read()\n",
    "rev_txts.append(nyc_restaurant6)\n",
    "rev_txts[6] = rev_txts[6].replace(\"\\n\", \" \")\n",
    "    \n",
    "nyc_restaurant7 = open(nyc_restaurants[7]+'.txt', 'r').read()\n",
    "rev_txts.append(nyc_restaurant7)\n",
    "rev_txts[7] = rev_txts[7].replace(\"\\n\", \" \")\n",
    "\n",
    "nyc_restaurant8 = open(nyc_restaurants[8]+'.txt', 'r').read()\n",
    "rev_txts.append(nyc_restaurant8)\n",
    "rev_txts[8] = rev_txts[8].replace(\"\\n\", \" \")\n",
    "    \n",
    "nyc_restaurant9 = open(nyc_restaurants[9]+'.txt', 'r').read()\n",
    "rev_txts.append(nyc_restaurant9)\n",
    "rev_txts[9] = rev_txts[9].replace(\"\\n\", \" \")\n",
    "    \n",
    "nyc_restaurant10 = open(nyc_restaurants[10]+'.txt', 'r').read()\n",
    "rev_txts.append(nyc_restaurant10)\n",
    "rev_txts[10] = rev_txts[10].replace(\"\\n\", \" \")\n",
    "    \n",
    "nyc_restaurant11 = open(nyc_restaurants[11]+'.txt', 'r').read()\n",
    "rev_txts.append(nyc_restaurant11)\n",
    "rev_txts[11] = rev_txts[11].replace(\"\\n\", \" \")\n",
    "    \n",
    "nyc_restaurant12 = open(nyc_restaurants[12]+'.txt', 'r').read()\n",
    "rev_txts.append(nyc_restaurant12)\n",
    "rev_txts[12] = rev_txts[12].replace(\"\\n\", \" \")\n",
    "    \n",
    "nyc_restaurant13 = open(nyc_restaurants[13]+'.txt', 'r').read()\n",
    "rev_txts.append(nyc_restaurant13)\n",
    "rev_txts[13] = rev_txts[13].replace(\"\\n\", \" \")\n",
    "    \n",
    "nyc_restaurant14 = open(nyc_restaurants[14]+'.txt', 'r').read()\n",
    "rev_txts.append(nyc_restaurant14)\n",
    "rev_txts[14] = rev_txts[14].replace(\"\\n\", \" \")\n",
    "\n",
    "nyc_restaurant15 = open(nyc_restaurants[15]+'.txt', 'r').read()\n",
    "rev_txts.append(nyc_restaurant15)\n",
    "rev_txts[15] = rev_txts[15].replace(\"\\n\", \" \")\n",
    "\n",
    "nyc_restaurant16 = open(nyc_restaurants[16]+'.txt', 'r').read()\n",
    "rev_txts.append(nyc_restaurant16)\n",
    "rev_txts[16] = rev_txts[16].replace(\"\\n\", \" \")\n",
    "    \n",
    "nyc_restaurant17 = open(nyc_restaurants[17]+'.txt', 'r').read()\n",
    "rev_txts.append(nyc_restaurant17)\n",
    "rev_txts[17] = rev_txts[17].replace(\"\\n\", \" \")\n",
    "    \n",
    "nyc_restaurant18 = open(nyc_restaurants[18]+'.txt', 'r').read()\n",
    "rev_txts.append(nyc_restaurant18)\n",
    "rev_txts[18] = rev_txts[18].replace(\"\\n\", \" \")\n",
    "    \n",
    "nyc_restaurant19 = open(nyc_restaurants[19]+'.txt', 'r').read()\n",
    "rev_txts.append(nyc_restaurant19)\n",
    "rev_txts[19] = rev_txts[19].replace(\"\\n\", \" \")\n"
   ]
  },
  {
   "cell_type": "code",
   "execution_count": 27,
   "metadata": {
    "scrolled": false
   },
   "outputs": [
    {
     "name": "stdout",
     "output_type": "stream",
     "text": [
      "['woorijip-authentic-korean-food-new-york', 'barn-joo-35-new-york', 'her-name-is-han-new-york-3', 'jongro-bbq-new-york-3', 'tofu-tofu-new-york-5', 'aska-brooklyn-3', 'aquavit-new-york', 'nordic-preserves-fish-and-wildlife-company-new-york', 'agern-new-york', 'the-copenhagen-new-york', 'the-masalawala-new-york-2', 'bk-jani-bushwick', 'lahore-deli-new-york', 'lahori-chilli-brooklyn-2', 'kababish-jackson-heights', 'ipanema-restaurant-new-york', 'samba-kitchen-new-york-5', 'villa-brazil-cafe-grill-astoria', 'beco-brooklyn', 'berimbau-do-brasil-new-york']\n"
     ]
    }
   ],
   "source": [
    "#print to double check we have all the restaurant names retrieved\n",
    "print(nyc_restaurants)"
   ]
  },
  {
   "cell_type": "code",
   "execution_count": 28,
   "metadata": {
    "collapsed": true
   },
   "outputs": [],
   "source": [
    "cleaned_rev = []\n",
    "for text in rev_txts:\n",
    "    text = BeautifulSoup(text, 'html.parser').getText()\n",
    "    #strips html formatting and converts to unicode\n",
    "    cleaned_rev.append(text)\n",
    "    # Check the result"
   ]
  },
  {
   "cell_type": "code",
   "execution_count": 29,
   "metadata": {
    "collapsed": true,
    "scrolled": true
   },
   "outputs": [],
   "source": [
    "stopwords = nltk.corpus.stopwords.words('english')\n",
    "\n",
    "# I will stem the words to reduce the feature set\n",
    "\n",
    "from nltk.stem.snowball import SnowballStemmer\n",
    "stemmer = SnowballStemmer(\"english\")\n",
    "\n",
    "# Define a function that will tokenize and stem text\n",
    "\n",
    "def tokenize_and_stem(text):\n",
    "    # first tokenize by sentence, then by word to ensure that punctuation is caught as it's own token\n",
    "    tokens = [word for sent in nltk.sent_tokenize(text) for word in nltk.word_tokenize(sent)]\n",
    "    filtered_tokens = []\n",
    "    # filter out any tokens not containing letters (e.g., numeric tokens, raw punctuation)\n",
    "    for token in tokens:\n",
    "        if re.search('[a-zA-Z]', token):\n",
    "            filtered_tokens.append(token)\n",
    "    stems = [stemmer.stem(t) for t in filtered_tokens]\n",
    "    return stems\n",
    "\n",
    "totalvocab_stemmed = []\n",
    "\n",
    "for s in cleaned_rev:\n",
    "    allwords_stemmed = tokenize_and_stem(s)\n",
    "    totalvocab_stemmed.extend(allwords_stemmed)"
   ]
  },
  {
   "cell_type": "code",
   "execution_count": 30,
   "metadata": {
    "scrolled": true
   },
   "outputs": [
    {
     "name": "stdout",
     "output_type": "stream",
     "text": [
      "Wall time: 3.17 s\n",
      "(20, 1130)\n"
     ]
    }
   ],
   "source": [
    "#define vectorizer parameters\n",
    "from sklearn.feature_extraction.text import TfidfVectorizer\n",
    "\n",
    "tfidf_vectorizer = TfidfVectorizer(max_df=0.8, max_features=200000,\n",
    "                                 min_df=0.2, stop_words='english',\n",
    "                                 use_idf=True, tokenizer=tokenize_and_stem, ngram_range=(1,3))\n",
    "\n",
    "%time tfidf_matrix = tfidf_vectorizer.fit_transform(cleaned_rev) #fit the vectorizer to clean reviews\n",
    "\n",
    "print(tfidf_matrix.shape)"
   ]
  },
  {
   "cell_type": "code",
   "execution_count": 31,
   "metadata": {
    "collapsed": true,
    "scrolled": true
   },
   "outputs": [],
   "source": [
    "terms = tfidf_vectorizer.get_feature_names()"
   ]
  },
  {
   "cell_type": "code",
   "execution_count": 32,
   "metadata": {
    "scrolled": true
   },
   "outputs": [
    {
     "name": "stdout",
     "output_type": "stream",
     "text": [
      "Total vocabulary:  61758 Terms used in the TF-IDF matrix:  1130\n"
     ]
    }
   ],
   "source": [
    "print(\"Total vocabulary: \", len(totalvocab_stemmed), \"Terms used in the TF-IDF matrix: \", len(terms))"
   ]
  },
  {
   "cell_type": "code",
   "execution_count": 33,
   "metadata": {
    "collapsed": true,
    "scrolled": true
   },
   "outputs": [],
   "source": [
    "from sklearn.metrics.pairwise import cosine_similarity\n",
    "dist = 1 - cosine_similarity(tfidf_matrix)"
   ]
  },
  {
   "cell_type": "code",
   "execution_count": 34,
   "metadata": {
    "collapsed": true,
    "scrolled": true
   },
   "outputs": [],
   "source": [
    "biznames = np.array(nyc_restaurants)"
   ]
  },
  {
   "cell_type": "code",
   "execution_count": 35,
   "metadata": {
    "scrolled": true
   },
   "outputs": [
    {
     "data": {
      "text/plain": [
       "<matplotlib.figure.Figure at 0x18bfcd3deb8>"
      ]
     },
     "metadata": {},
     "output_type": "display_data"
    },
    {
     "data": {
      "image/png": "[encoded data removed]",
      "text/plain": [
       "<matplotlib.figure.Figure at 0x18bfda7cfd0>"
      ]
     },
     "metadata": {},
     "output_type": "display_data"
    }
   ],
   "source": [
    "import matplotlib.pyplot as plt\n",
    "from scipy.cluster.hierarchy import ward, dendrogram\n",
    "\n",
    "linkage_matrix = ward(dist) #define the linkage_matrix using ward clustering pre-computed distances\n",
    "\n",
    "fig, ax = plt.subplots(figsize=(15, 20)) # set size\n",
    "ax = dendrogram(linkage_matrix, orientation=\"right\", labels=biznames);\n",
    "\n",
    "plt.tick_params(\\\n",
    "    axis= 'x',          # changes apply to the x-axis\n",
    "    which='both',      # both major and minor ticks are affected\n",
    "    bottom='off',      # ticks along the bottom edge are off\n",
    "    top='off',         # ticks along the top edge are off\n",
    "    labelbottom='off')\n",
    "\n",
    "plt.tight_layout() #show plot with tight layout\n",
    "\n",
    "plt.show()\n",
    "#uncomment below to save figure\n",
    "plt.savefig('ward_clusters.png', dpi=200) \n",
    "#save figure as ward_clusters"
   ]
  },
  {
   "cell_type": "markdown",
   "metadata": {
    "collapsed": true
   },
   "source": [
    "Build a dendrogram showing the similarities across the restaurants. Do restaurantas offering the same cuisine cluster together? (10pts.)\n",
    "\n",
    "Based on our dendogram, it appears that restaurants offering the same cuisine for the most part cluster together. However, there is one exception. A dendogram looks at distances between data points on the y axis, which is based upon height and proximity. It first looks at one point closer to another, and then determines the distance between other seperate clusters. Here, we can scroll down to the pakastani/indian restaurants in green, and see that Nordic Preserves Fish and Wildlife Company cluster together in the same group, over being grouped with the other scandinavian restaurants. This is very interesting because these cuisines would probably be considered very different from each other. In addition, the clustering with the korean restaurants also appears to have some form of proximity/similarities, with the scandinavian restaurants. This is depicted in the bigger blue cluster connecting the two clusters together (macro-cluster). Overall, however, the sames cuisines cluster together."
   ]
  },
  {
   "cell_type": "code",
   "execution_count": null,
   "metadata": {
    "collapsed": true
   },
   "outputs": [],
   "source": []
  }
 ],
 "metadata": {
  "anaconda-cloud": {},
  "kernelspec": {
   "display_name": "Python 3",
   "language": "python",
   "name": "python3"
  },
  "language_info": {
   "codemirror_mode": {
    "name": "ipython",
    "version": 3
   },
   "file_extension": ".py",
   "mimetype": "text/x-python",
   "name": "python",
   "nbconvert_exporter": "python",
   "pygments_lexer": "ipython3",
   "version": "3.6.3"
  }
 },
 "nbformat": 4,
 "nbformat_minor": 1
}
